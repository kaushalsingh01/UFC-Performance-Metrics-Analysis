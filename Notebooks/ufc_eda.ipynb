{
 "cells": [
  {
   "cell_type": "markdown",
   "metadata": {},
   "source": [
    "### **Introduction**\n",
    "This project explores UFC fighter and event data to identify key patterns in performance. By analyzing metrics such as striking accuracy, takedown efficeny and submissions, we aim to better understand what leads to success in octagon.\n"
   ]
  },
  {
   "cell_type": "markdown",
   "metadata": {},
   "source": [
    "### **Objective**\n",
    "\n",
    "Analyze UFC fighter performance metrics to uncover trends, evaluate factors influencing outcomes and providing insights into fighter performance across different weight class, fighting styles and events. By doing this data analysis, we aim to explore relationships between key metrics such as strikig accuracy, takedown efficency and submission rates and their impact on match results. "
   ]
  },
  {
   "cell_type": "code",
   "execution_count": 441,
   "metadata": {},
   "outputs": [],
   "source": [
    "# imported python libraries\n",
    "import pandas as pd\n",
    "import numpy as np \n",
    "import matplotlib.pyplot as plt\n",
    "import seaborn as sns "
   ]
  },
  {
   "cell_type": "code",
   "execution_count": 442,
   "metadata": {},
   "outputs": [],
   "source": [
    "# Loading the files\n",
    "fighter_stats_path = r\"../Datasets/fighter_stats.csv\"\n",
    "medium_dataset_path = r\"../Datasets/medium_dataset.csv\"\n",
    "# Reading files\n",
    "fighter_data = pd.DataFrame(pd.read_csv(fighter_stats_path))\n",
    "event_detail_data = pd.DataFrame(pd.read_csv(medium_dataset_path))\n"
   ]
  },
  {
   "cell_type": "code",
   "execution_count": 443,
   "metadata": {},
   "outputs": [
    {
     "name": "stdout",
     "output_type": "stream",
     "text": [
      "Fighter data\n",
      "Rows:  2479\n",
      "Columns:  16\n"
     ]
    }
   ],
   "source": [
    "#shape of fighter data\n",
    "fs = fighter_data.shape\n",
    "print(\"Fighter data\")\n",
    "print(\"Rows: \",fs[0])\n",
    "print(\"Columns: \",fs[1])"
   ]
  },
  {
   "cell_type": "code",
   "execution_count": 444,
   "metadata": {},
   "outputs": [
    {
     "name": "stdout",
     "output_type": "stream",
     "text": [
      "Event detail data\n",
      "Rows:  7582\n",
      "Columns:  19\n"
     ]
    }
   ],
   "source": [
    "#shape of event detail data\n",
    "es = event_detail_data.shape\n",
    "print(\"Event detail data\")\n",
    "print(\"Rows: \", es[0])\n",
    "print(\"Columns: \", es[1])"
   ]
  },
  {
   "cell_type": "code",
   "execution_count": 445,
   "metadata": {},
   "outputs": [
    {
     "data": {
      "text/html": [
       "<div>\n",
       "<style scoped>\n",
       "    .dataframe tbody tr th:only-of-type {\n",
       "        vertical-align: middle;\n",
       "    }\n",
       "\n",
       "    .dataframe tbody tr th {\n",
       "        vertical-align: top;\n",
       "    }\n",
       "\n",
       "    .dataframe thead th {\n",
       "        text-align: right;\n",
       "    }\n",
       "</style>\n",
       "<table border=\"1\" class=\"dataframe\">\n",
       "  <thead>\n",
       "    <tr style=\"text-align: right;\">\n",
       "      <th></th>\n",
       "      <th>name</th>\n",
       "      <th>wins</th>\n",
       "      <th>losses</th>\n",
       "      <th>height</th>\n",
       "      <th>weight</th>\n",
       "      <th>reach</th>\n",
       "      <th>stance</th>\n",
       "      <th>age</th>\n",
       "      <th>SLpM</th>\n",
       "      <th>sig_str_acc</th>\n",
       "      <th>SApM</th>\n",
       "      <th>str_def</th>\n",
       "      <th>td_avg</th>\n",
       "      <th>td_acc</th>\n",
       "      <th>td_def</th>\n",
       "      <th>sub_avg</th>\n",
       "    </tr>\n",
       "  </thead>\n",
       "  <tbody>\n",
       "    <tr>\n",
       "      <th>0</th>\n",
       "      <td>Amanda Ribas</td>\n",
       "      <td>12.0</td>\n",
       "      <td>5.0</td>\n",
       "      <td>160.02</td>\n",
       "      <td>56.70</td>\n",
       "      <td>167.64</td>\n",
       "      <td>Orthodox</td>\n",
       "      <td>30.0</td>\n",
       "      <td>4.63</td>\n",
       "      <td>0.40</td>\n",
       "      <td>3.40</td>\n",
       "      <td>0.61</td>\n",
       "      <td>2.07</td>\n",
       "      <td>0.51</td>\n",
       "      <td>0.85</td>\n",
       "      <td>0.7</td>\n",
       "    </tr>\n",
       "    <tr>\n",
       "      <th>1</th>\n",
       "      <td>Rose Namajunas</td>\n",
       "      <td>13.0</td>\n",
       "      <td>6.0</td>\n",
       "      <td>165.10</td>\n",
       "      <td>56.70</td>\n",
       "      <td>165.10</td>\n",
       "      <td>Orthodox</td>\n",
       "      <td>31.0</td>\n",
       "      <td>3.69</td>\n",
       "      <td>0.41</td>\n",
       "      <td>3.51</td>\n",
       "      <td>0.63</td>\n",
       "      <td>1.38</td>\n",
       "      <td>0.47</td>\n",
       "      <td>0.59</td>\n",
       "      <td>0.5</td>\n",
       "    </tr>\n",
       "    <tr>\n",
       "      <th>2</th>\n",
       "      <td>Karl Williams</td>\n",
       "      <td>10.0</td>\n",
       "      <td>1.0</td>\n",
       "      <td>190.50</td>\n",
       "      <td>106.59</td>\n",
       "      <td>200.66</td>\n",
       "      <td>Orthodox</td>\n",
       "      <td>34.0</td>\n",
       "      <td>2.87</td>\n",
       "      <td>0.52</td>\n",
       "      <td>1.70</td>\n",
       "      <td>0.60</td>\n",
       "      <td>4.75</td>\n",
       "      <td>0.50</td>\n",
       "      <td>1.00</td>\n",
       "      <td>0.2</td>\n",
       "    </tr>\n",
       "    <tr>\n",
       "      <th>3</th>\n",
       "      <td>Justin Tafa</td>\n",
       "      <td>7.0</td>\n",
       "      <td>4.0</td>\n",
       "      <td>182.88</td>\n",
       "      <td>119.75</td>\n",
       "      <td>187.96</td>\n",
       "      <td>Southpaw</td>\n",
       "      <td>30.0</td>\n",
       "      <td>4.09</td>\n",
       "      <td>0.54</td>\n",
       "      <td>5.02</td>\n",
       "      <td>0.47</td>\n",
       "      <td>0.00</td>\n",
       "      <td>0.00</td>\n",
       "      <td>0.50</td>\n",
       "      <td>0.0</td>\n",
       "    </tr>\n",
       "    <tr>\n",
       "      <th>4</th>\n",
       "      <td>Edmen Shahbazyan</td>\n",
       "      <td>13.0</td>\n",
       "      <td>4.0</td>\n",
       "      <td>187.96</td>\n",
       "      <td>83.91</td>\n",
       "      <td>190.50</td>\n",
       "      <td>Orthodox</td>\n",
       "      <td>26.0</td>\n",
       "      <td>3.60</td>\n",
       "      <td>0.52</td>\n",
       "      <td>4.09</td>\n",
       "      <td>0.45</td>\n",
       "      <td>2.24</td>\n",
       "      <td>0.38</td>\n",
       "      <td>0.63</td>\n",
       "      <td>0.6</td>\n",
       "    </tr>\n",
       "  </tbody>\n",
       "</table>\n",
       "</div>"
      ],
      "text/plain": [
       "               name  wins  losses  height  weight   reach    stance   age  \\\n",
       "0      Amanda Ribas  12.0     5.0  160.02   56.70  167.64  Orthodox  30.0   \n",
       "1    Rose Namajunas  13.0     6.0  165.10   56.70  165.10  Orthodox  31.0   \n",
       "2     Karl Williams  10.0     1.0  190.50  106.59  200.66  Orthodox  34.0   \n",
       "3       Justin Tafa   7.0     4.0  182.88  119.75  187.96  Southpaw  30.0   \n",
       "4  Edmen Shahbazyan  13.0     4.0  187.96   83.91  190.50  Orthodox  26.0   \n",
       "\n",
       "   SLpM  sig_str_acc  SApM  str_def  td_avg  td_acc  td_def  sub_avg  \n",
       "0  4.63         0.40  3.40     0.61    2.07    0.51    0.85      0.7  \n",
       "1  3.69         0.41  3.51     0.63    1.38    0.47    0.59      0.5  \n",
       "2  2.87         0.52  1.70     0.60    4.75    0.50    1.00      0.2  \n",
       "3  4.09         0.54  5.02     0.47    0.00    0.00    0.50      0.0  \n",
       "4  3.60         0.52  4.09     0.45    2.24    0.38    0.63      0.6  "
      ]
     },
     "execution_count": 445,
     "metadata": {},
     "output_type": "execute_result"
    }
   ],
   "source": [
    "# showing top 5 rows of fighter_data\n",
    "fighter_data.head()"
   ]
  },
  {
   "cell_type": "code",
   "execution_count": 446,
   "metadata": {},
   "outputs": [
    {
     "data": {
      "text/html": [
       "<div>\n",
       "<style scoped>\n",
       "    .dataframe tbody tr th:only-of-type {\n",
       "        vertical-align: middle;\n",
       "    }\n",
       "\n",
       "    .dataframe tbody tr th {\n",
       "        vertical-align: top;\n",
       "    }\n",
       "\n",
       "    .dataframe thead th {\n",
       "        text-align: right;\n",
       "    }\n",
       "</style>\n",
       "<table border=\"1\" class=\"dataframe\">\n",
       "  <thead>\n",
       "    <tr style=\"text-align: right;\">\n",
       "      <th></th>\n",
       "      <th>event</th>\n",
       "      <th>date</th>\n",
       "      <th>location</th>\n",
       "      <th>r_fighter</th>\n",
       "      <th>b_fighter</th>\n",
       "      <th>status</th>\n",
       "      <th>r_kd</th>\n",
       "      <th>b_kd</th>\n",
       "      <th>r_str</th>\n",
       "      <th>b_str</th>\n",
       "      <th>r_td</th>\n",
       "      <th>b_td</th>\n",
       "      <th>r_sub</th>\n",
       "      <th>b_sub</th>\n",
       "      <th>weight_class</th>\n",
       "      <th>method</th>\n",
       "      <th>method_detailed</th>\n",
       "      <th>round</th>\n",
       "      <th>time</th>\n",
       "    </tr>\n",
       "  </thead>\n",
       "  <tbody>\n",
       "    <tr>\n",
       "      <th>0</th>\n",
       "      <td>UFC Fight Night: Ribas vs. Namajunas</td>\n",
       "      <td>3/23/2024</td>\n",
       "      <td>Las Vegas, Nevada, USA</td>\n",
       "      <td>Rose Namajunas</td>\n",
       "      <td>Amanda Ribas</td>\n",
       "      <td>win</td>\n",
       "      <td>0.0</td>\n",
       "      <td>0.0</td>\n",
       "      <td>93.0</td>\n",
       "      <td>83.0</td>\n",
       "      <td>1.0</td>\n",
       "      <td>4.0</td>\n",
       "      <td>0.0</td>\n",
       "      <td>0.0</td>\n",
       "      <td>Women's Flyweight</td>\n",
       "      <td>U-DEC</td>\n",
       "      <td>NaN</td>\n",
       "      <td>5.0</td>\n",
       "      <td>5:00</td>\n",
       "    </tr>\n",
       "    <tr>\n",
       "      <th>1</th>\n",
       "      <td>UFC Fight Night: Ribas vs. Namajunas</td>\n",
       "      <td>3/23/2024</td>\n",
       "      <td>Las Vegas, Nevada, USA</td>\n",
       "      <td>Karl Williams</td>\n",
       "      <td>Justin Tafa</td>\n",
       "      <td>win</td>\n",
       "      <td>0.0</td>\n",
       "      <td>0.0</td>\n",
       "      <td>40.0</td>\n",
       "      <td>21.0</td>\n",
       "      <td>7.0</td>\n",
       "      <td>0.0</td>\n",
       "      <td>1.0</td>\n",
       "      <td>0.0</td>\n",
       "      <td>Heavyweight</td>\n",
       "      <td>U-DEC</td>\n",
       "      <td>NaN</td>\n",
       "      <td>3.0</td>\n",
       "      <td>5:00</td>\n",
       "    </tr>\n",
       "    <tr>\n",
       "      <th>2</th>\n",
       "      <td>UFC Fight Night: Ribas vs. Namajunas</td>\n",
       "      <td>3/23/2024</td>\n",
       "      <td>Las Vegas, Nevada, USA</td>\n",
       "      <td>Edmen Shahbazyan</td>\n",
       "      <td>AJ Dobson</td>\n",
       "      <td>win</td>\n",
       "      <td>1.0</td>\n",
       "      <td>0.0</td>\n",
       "      <td>27.0</td>\n",
       "      <td>15.0</td>\n",
       "      <td>1.0</td>\n",
       "      <td>0.0</td>\n",
       "      <td>0.0</td>\n",
       "      <td>0.0</td>\n",
       "      <td>Middleweight</td>\n",
       "      <td>KO/TKO</td>\n",
       "      <td>Punches</td>\n",
       "      <td>1.0</td>\n",
       "      <td>4:33</td>\n",
       "    </tr>\n",
       "    <tr>\n",
       "      <th>3</th>\n",
       "      <td>UFC Fight Night: Ribas vs. Namajunas</td>\n",
       "      <td>3/23/2024</td>\n",
       "      <td>Las Vegas, Nevada, USA</td>\n",
       "      <td>Payton Talbott</td>\n",
       "      <td>Cameron Saaiman</td>\n",
       "      <td>win</td>\n",
       "      <td>1.0</td>\n",
       "      <td>0.0</td>\n",
       "      <td>79.0</td>\n",
       "      <td>31.0</td>\n",
       "      <td>0.0</td>\n",
       "      <td>0.0</td>\n",
       "      <td>0.0</td>\n",
       "      <td>0.0</td>\n",
       "      <td>Bantamweight</td>\n",
       "      <td>KO/TKO</td>\n",
       "      <td>Punches</td>\n",
       "      <td>2.0</td>\n",
       "      <td>0:21</td>\n",
       "    </tr>\n",
       "    <tr>\n",
       "      <th>4</th>\n",
       "      <td>UFC Fight Night: Ribas vs. Namajunas</td>\n",
       "      <td>3/23/2024</td>\n",
       "      <td>Las Vegas, Nevada, USA</td>\n",
       "      <td>Youssef Zalal</td>\n",
       "      <td>Billy Quarantillo</td>\n",
       "      <td>win</td>\n",
       "      <td>0.0</td>\n",
       "      <td>0.0</td>\n",
       "      <td>33.0</td>\n",
       "      <td>10.0</td>\n",
       "      <td>2.0</td>\n",
       "      <td>0.0</td>\n",
       "      <td>2.0</td>\n",
       "      <td>0.0</td>\n",
       "      <td>Featherweight</td>\n",
       "      <td>SUB</td>\n",
       "      <td>Rear Naked Choke</td>\n",
       "      <td>2.0</td>\n",
       "      <td>1:50</td>\n",
       "    </tr>\n",
       "  </tbody>\n",
       "</table>\n",
       "</div>"
      ],
      "text/plain": [
       "                                  event       date                location  \\\n",
       "0  UFC Fight Night: Ribas vs. Namajunas  3/23/2024  Las Vegas, Nevada, USA   \n",
       "1  UFC Fight Night: Ribas vs. Namajunas  3/23/2024  Las Vegas, Nevada, USA   \n",
       "2  UFC Fight Night: Ribas vs. Namajunas  3/23/2024  Las Vegas, Nevada, USA   \n",
       "3  UFC Fight Night: Ribas vs. Namajunas  3/23/2024  Las Vegas, Nevada, USA   \n",
       "4  UFC Fight Night: Ribas vs. Namajunas  3/23/2024  Las Vegas, Nevada, USA   \n",
       "\n",
       "          r_fighter          b_fighter status  r_kd  b_kd  r_str  b_str  r_td  \\\n",
       "0    Rose Namajunas       Amanda Ribas    win   0.0   0.0   93.0   83.0   1.0   \n",
       "1     Karl Williams        Justin Tafa    win   0.0   0.0   40.0   21.0   7.0   \n",
       "2  Edmen Shahbazyan          AJ Dobson    win   1.0   0.0   27.0   15.0   1.0   \n",
       "3    Payton Talbott    Cameron Saaiman    win   1.0   0.0   79.0   31.0   0.0   \n",
       "4     Youssef Zalal  Billy Quarantillo    win   0.0   0.0   33.0   10.0   2.0   \n",
       "\n",
       "   b_td  r_sub  b_sub       weight_class  method   method_detailed  round  \\\n",
       "0   4.0    0.0    0.0  Women's Flyweight   U-DEC               NaN    5.0   \n",
       "1   0.0    1.0    0.0        Heavyweight   U-DEC               NaN    3.0   \n",
       "2   0.0    0.0    0.0       Middleweight  KO/TKO           Punches    1.0   \n",
       "3   0.0    0.0    0.0       Bantamweight  KO/TKO           Punches    2.0   \n",
       "4   0.0    2.0    0.0      Featherweight     SUB  Rear Naked Choke    2.0   \n",
       "\n",
       "   time  \n",
       "0  5:00  \n",
       "1  5:00  \n",
       "2  4:33  \n",
       "3  0:21  \n",
       "4  1:50  "
      ]
     },
     "execution_count": 446,
     "metadata": {},
     "output_type": "execute_result"
    }
   ],
   "source": [
    "#showing top 5 rows of event_details_data\n",
    "event_detail_data.head()"
   ]
  },
  {
   "cell_type": "markdown",
   "metadata": {},
   "source": [
    "### **Cleaning data of Fighter Data**"
   ]
  },
  {
   "cell_type": "code",
   "execution_count": 447,
   "metadata": {},
   "outputs": [
    {
     "name": "stdout",
     "output_type": "stream",
     "text": [
      "<class 'pandas.core.frame.DataFrame'>\n",
      "RangeIndex: 2479 entries, 0 to 2478\n",
      "Data columns (total 16 columns):\n",
      " #   Column       Non-Null Count  Dtype  \n",
      "---  ------       --------------  -----  \n",
      " 0   name         2478 non-null   object \n",
      " 1   wins         2478 non-null   float64\n",
      " 2   losses       2478 non-null   float64\n",
      " 3   height       2478 non-null   float64\n",
      " 4   weight       2478 non-null   float64\n",
      " 5   reach        1823 non-null   float64\n",
      " 6   stance       2401 non-null   object \n",
      " 7   age          2318 non-null   float64\n",
      " 8   SLpM         2478 non-null   float64\n",
      " 9   sig_str_acc  2478 non-null   float64\n",
      " 10  SApM         2478 non-null   float64\n",
      " 11  str_def      2478 non-null   float64\n",
      " 12  td_avg       2478 non-null   float64\n",
      " 13  td_acc       2478 non-null   float64\n",
      " 14  td_def       2478 non-null   float64\n",
      " 15  sub_avg      2478 non-null   float64\n",
      "dtypes: float64(14), object(2)\n",
      "memory usage: 310.0+ KB\n"
     ]
    }
   ],
   "source": [
    "#Info about the columns in fighter_data\n",
    "fighter_data.info()"
   ]
  },
  {
   "cell_type": "code",
   "execution_count": 448,
   "metadata": {},
   "outputs": [
    {
     "data": {
      "text/plain": [
       "name           2472\n",
       "wins             54\n",
       "losses           33\n",
       "height           23\n",
       "weight           80\n",
       "reach            27\n",
       "stance            5\n",
       "age              47\n",
       "SLpM            620\n",
       "sig_str_acc      75\n",
       "SApM            629\n",
       "str_def          76\n",
       "td_avg          486\n",
       "td_acc           82\n",
       "td_def           92\n",
       "sub_avg          64\n",
       "dtype: int64"
      ]
     },
     "execution_count": 448,
     "metadata": {},
     "output_type": "execute_result"
    }
   ],
   "source": [
    "#Finding unique values in each column\n",
    "fighter_data.nunique()"
   ]
  },
  {
   "cell_type": "code",
   "execution_count": 449,
   "metadata": {},
   "outputs": [
    {
     "data": {
      "text/html": [
       "<div>\n",
       "<style scoped>\n",
       "    .dataframe tbody tr th:only-of-type {\n",
       "        vertical-align: middle;\n",
       "    }\n",
       "\n",
       "    .dataframe tbody tr th {\n",
       "        vertical-align: top;\n",
       "    }\n",
       "\n",
       "    .dataframe thead th {\n",
       "        text-align: right;\n",
       "    }\n",
       "</style>\n",
       "<table border=\"1\" class=\"dataframe\">\n",
       "  <thead>\n",
       "    <tr style=\"text-align: right;\">\n",
       "      <th></th>\n",
       "      <th>wins</th>\n",
       "      <th>losses</th>\n",
       "      <th>height</th>\n",
       "      <th>weight</th>\n",
       "      <th>reach</th>\n",
       "      <th>age</th>\n",
       "      <th>SLpM</th>\n",
       "      <th>sig_str_acc</th>\n",
       "      <th>SApM</th>\n",
       "      <th>str_def</th>\n",
       "      <th>td_avg</th>\n",
       "      <th>td_acc</th>\n",
       "      <th>td_def</th>\n",
       "      <th>sub_avg</th>\n",
       "    </tr>\n",
       "  </thead>\n",
       "  <tbody>\n",
       "    <tr>\n",
       "      <th>count</th>\n",
       "      <td>2478.000000</td>\n",
       "      <td>2478.000000</td>\n",
       "      <td>2478.000000</td>\n",
       "      <td>2478.000000</td>\n",
       "      <td>1823.000000</td>\n",
       "      <td>2318.000000</td>\n",
       "      <td>2478.000000</td>\n",
       "      <td>2478.000000</td>\n",
       "      <td>2478.000000</td>\n",
       "      <td>2478.000000</td>\n",
       "      <td>2478.000000</td>\n",
       "      <td>2478.000000</td>\n",
       "      <td>2478.000000</td>\n",
       "      <td>2478.000000</td>\n",
       "    </tr>\n",
       "    <tr>\n",
       "      <th>mean</th>\n",
       "      <td>14.399112</td>\n",
       "      <td>6.111380</td>\n",
       "      <td>178.384262</td>\n",
       "      <td>76.876852</td>\n",
       "      <td>182.035656</td>\n",
       "      <td>37.727783</td>\n",
       "      <td>2.932623</td>\n",
       "      <td>0.406029</td>\n",
       "      <td>3.388567</td>\n",
       "      <td>0.488910</td>\n",
       "      <td>1.393543</td>\n",
       "      <td>0.322571</td>\n",
       "      <td>0.494972</td>\n",
       "      <td>0.602179</td>\n",
       "    </tr>\n",
       "    <tr>\n",
       "      <th>std</th>\n",
       "      <td>9.853474</td>\n",
       "      <td>4.548011</td>\n",
       "      <td>8.851777</td>\n",
       "      <td>17.976646</td>\n",
       "      <td>10.654129</td>\n",
       "      <td>7.251188</td>\n",
       "      <td>1.736693</td>\n",
       "      <td>0.151297</td>\n",
       "      <td>2.027258</td>\n",
       "      <td>0.162305</td>\n",
       "      <td>1.512821</td>\n",
       "      <td>0.256928</td>\n",
       "      <td>0.297551</td>\n",
       "      <td>1.057863</td>\n",
       "    </tr>\n",
       "    <tr>\n",
       "      <th>min</th>\n",
       "      <td>0.000000</td>\n",
       "      <td>0.000000</td>\n",
       "      <td>152.400000</td>\n",
       "      <td>52.160000</td>\n",
       "      <td>147.320000</td>\n",
       "      <td>19.000000</td>\n",
       "      <td>0.000000</td>\n",
       "      <td>0.000000</td>\n",
       "      <td>0.000000</td>\n",
       "      <td>0.000000</td>\n",
       "      <td>0.000000</td>\n",
       "      <td>0.000000</td>\n",
       "      <td>0.000000</td>\n",
       "      <td>0.000000</td>\n",
       "    </tr>\n",
       "    <tr>\n",
       "      <th>25%</th>\n",
       "      <td>9.000000</td>\n",
       "      <td>3.000000</td>\n",
       "      <td>172.720000</td>\n",
       "      <td>65.770000</td>\n",
       "      <td>175.260000</td>\n",
       "      <td>32.000000</td>\n",
       "      <td>1.810000</td>\n",
       "      <td>0.360000</td>\n",
       "      <td>2.320000</td>\n",
       "      <td>0.450000</td>\n",
       "      <td>0.120000</td>\n",
       "      <td>0.070000</td>\n",
       "      <td>0.300000</td>\n",
       "      <td>0.000000</td>\n",
       "    </tr>\n",
       "    <tr>\n",
       "      <th>50%</th>\n",
       "      <td>13.000000</td>\n",
       "      <td>5.000000</td>\n",
       "      <td>177.800000</td>\n",
       "      <td>77.110000</td>\n",
       "      <td>182.880000</td>\n",
       "      <td>37.000000</td>\n",
       "      <td>2.900000</td>\n",
       "      <td>0.430000</td>\n",
       "      <td>3.230000</td>\n",
       "      <td>0.520000</td>\n",
       "      <td>1.000000</td>\n",
       "      <td>0.330000</td>\n",
       "      <td>0.550000</td>\n",
       "      <td>0.300000</td>\n",
       "    </tr>\n",
       "    <tr>\n",
       "      <th>75%</th>\n",
       "      <td>18.000000</td>\n",
       "      <td>8.000000</td>\n",
       "      <td>185.420000</td>\n",
       "      <td>83.910000</td>\n",
       "      <td>190.500000</td>\n",
       "      <td>42.000000</td>\n",
       "      <td>3.920000</td>\n",
       "      <td>0.500000</td>\n",
       "      <td>4.290000</td>\n",
       "      <td>0.580000</td>\n",
       "      <td>2.065000</td>\n",
       "      <td>0.480000</td>\n",
       "      <td>0.710000</td>\n",
       "      <td>0.800000</td>\n",
       "    </tr>\n",
       "    <tr>\n",
       "      <th>max</th>\n",
       "      <td>253.000000</td>\n",
       "      <td>53.000000</td>\n",
       "      <td>210.820000</td>\n",
       "      <td>349.270000</td>\n",
       "      <td>213.360000</td>\n",
       "      <td>81.000000</td>\n",
       "      <td>23.330000</td>\n",
       "      <td>1.000000</td>\n",
       "      <td>42.000000</td>\n",
       "      <td>1.000000</td>\n",
       "      <td>13.950000</td>\n",
       "      <td>1.000000</td>\n",
       "      <td>1.000000</td>\n",
       "      <td>16.400000</td>\n",
       "    </tr>\n",
       "  </tbody>\n",
       "</table>\n",
       "</div>"
      ],
      "text/plain": [
       "              wins       losses       height       weight        reach  \\\n",
       "count  2478.000000  2478.000000  2478.000000  2478.000000  1823.000000   \n",
       "mean     14.399112     6.111380   178.384262    76.876852   182.035656   \n",
       "std       9.853474     4.548011     8.851777    17.976646    10.654129   \n",
       "min       0.000000     0.000000   152.400000    52.160000   147.320000   \n",
       "25%       9.000000     3.000000   172.720000    65.770000   175.260000   \n",
       "50%      13.000000     5.000000   177.800000    77.110000   182.880000   \n",
       "75%      18.000000     8.000000   185.420000    83.910000   190.500000   \n",
       "max     253.000000    53.000000   210.820000   349.270000   213.360000   \n",
       "\n",
       "               age         SLpM  sig_str_acc         SApM      str_def  \\\n",
       "count  2318.000000  2478.000000  2478.000000  2478.000000  2478.000000   \n",
       "mean     37.727783     2.932623     0.406029     3.388567     0.488910   \n",
       "std       7.251188     1.736693     0.151297     2.027258     0.162305   \n",
       "min      19.000000     0.000000     0.000000     0.000000     0.000000   \n",
       "25%      32.000000     1.810000     0.360000     2.320000     0.450000   \n",
       "50%      37.000000     2.900000     0.430000     3.230000     0.520000   \n",
       "75%      42.000000     3.920000     0.500000     4.290000     0.580000   \n",
       "max      81.000000    23.330000     1.000000    42.000000     1.000000   \n",
       "\n",
       "            td_avg       td_acc       td_def      sub_avg  \n",
       "count  2478.000000  2478.000000  2478.000000  2478.000000  \n",
       "mean      1.393543     0.322571     0.494972     0.602179  \n",
       "std       1.512821     0.256928     0.297551     1.057863  \n",
       "min       0.000000     0.000000     0.000000     0.000000  \n",
       "25%       0.120000     0.070000     0.300000     0.000000  \n",
       "50%       1.000000     0.330000     0.550000     0.300000  \n",
       "75%       2.065000     0.480000     0.710000     0.800000  \n",
       "max      13.950000     1.000000     1.000000    16.400000  "
      ]
     },
     "execution_count": 449,
     "metadata": {},
     "output_type": "execute_result"
    }
   ],
   "source": [
    "#Statistical description of non-categorial column in fighter_data\n",
    "fighter_data.describe()"
   ]
  },
  {
   "cell_type": "code",
   "execution_count": 450,
   "metadata": {},
   "outputs": [
    {
     "data": {
      "text/html": [
       "<div>\n",
       "<style scoped>\n",
       "    .dataframe tbody tr th:only-of-type {\n",
       "        vertical-align: middle;\n",
       "    }\n",
       "\n",
       "    .dataframe tbody tr th {\n",
       "        vertical-align: top;\n",
       "    }\n",
       "\n",
       "    .dataframe thead th {\n",
       "        text-align: right;\n",
       "    }\n",
       "</style>\n",
       "<table border=\"1\" class=\"dataframe\">\n",
       "  <thead>\n",
       "    <tr style=\"text-align: right;\">\n",
       "      <th></th>\n",
       "      <th>name</th>\n",
       "      <th>stance</th>\n",
       "    </tr>\n",
       "  </thead>\n",
       "  <tbody>\n",
       "    <tr>\n",
       "      <th>count</th>\n",
       "      <td>2478</td>\n",
       "      <td>2401</td>\n",
       "    </tr>\n",
       "    <tr>\n",
       "      <th>unique</th>\n",
       "      <td>2472</td>\n",
       "      <td>5</td>\n",
       "    </tr>\n",
       "    <tr>\n",
       "      <th>top</th>\n",
       "      <td>Felix Lee Mitchell</td>\n",
       "      <td>Orthodox</td>\n",
       "    </tr>\n",
       "    <tr>\n",
       "      <th>freq</th>\n",
       "      <td>3</td>\n",
       "      <td>1840</td>\n",
       "    </tr>\n",
       "  </tbody>\n",
       "</table>\n",
       "</div>"
      ],
      "text/plain": [
       "                      name    stance\n",
       "count                 2478      2401\n",
       "unique                2472         5\n",
       "top     Felix Lee Mitchell  Orthodox\n",
       "freq                     3      1840"
      ]
     },
     "execution_count": 450,
     "metadata": {},
     "output_type": "execute_result"
    }
   ],
   "source": [
    "#Statistical description of categorical column in fighter data\n",
    "fighter_data.describe(include='object')"
   ]
  },
  {
   "cell_type": "code",
   "execution_count": 451,
   "metadata": {},
   "outputs": [
    {
     "data": {
      "text/plain": [
       "name             1\n",
       "wins             1\n",
       "losses           1\n",
       "height           1\n",
       "weight           1\n",
       "reach          656\n",
       "stance          78\n",
       "age            161\n",
       "SLpM             1\n",
       "sig_str_acc      1\n",
       "SApM             1\n",
       "str_def          1\n",
       "td_avg           1\n",
       "td_acc           1\n",
       "td_def           1\n",
       "sub_avg          1\n",
       "dtype: int64"
      ]
     },
     "execution_count": 451,
     "metadata": {},
     "output_type": "execute_result"
    }
   ],
   "source": [
    "#Checking if there is any null values in fighter data\n",
    "fighter_data.isna().sum()"
   ]
  },
  {
   "cell_type": "code",
   "execution_count": 452,
   "metadata": {},
   "outputs": [
    {
     "data": {
      "text/html": [
       "<div>\n",
       "<style scoped>\n",
       "    .dataframe tbody tr th:only-of-type {\n",
       "        vertical-align: middle;\n",
       "    }\n",
       "\n",
       "    .dataframe tbody tr th {\n",
       "        vertical-align: top;\n",
       "    }\n",
       "\n",
       "    .dataframe thead th {\n",
       "        text-align: right;\n",
       "    }\n",
       "</style>\n",
       "<table border=\"1\" class=\"dataframe\">\n",
       "  <thead>\n",
       "    <tr style=\"text-align: right;\">\n",
       "      <th></th>\n",
       "      <th>name</th>\n",
       "      <th>wins</th>\n",
       "      <th>losses</th>\n",
       "      <th>height</th>\n",
       "      <th>weight</th>\n",
       "      <th>reach</th>\n",
       "      <th>stance</th>\n",
       "      <th>age</th>\n",
       "      <th>SLpM</th>\n",
       "      <th>sig_str_acc</th>\n",
       "      <th>SApM</th>\n",
       "      <th>str_def</th>\n",
       "      <th>td_avg</th>\n",
       "      <th>td_acc</th>\n",
       "      <th>td_def</th>\n",
       "      <th>sub_avg</th>\n",
       "    </tr>\n",
       "  </thead>\n",
       "  <tbody>\n",
       "    <tr>\n",
       "      <th>21</th>\n",
       "      <td>Daria Zhelezniakova</td>\n",
       "      <td>9.0</td>\n",
       "      <td>1.0</td>\n",
       "      <td>175.26</td>\n",
       "      <td>61.23</td>\n",
       "      <td>172.72</td>\n",
       "      <td>NaN</td>\n",
       "      <td>28.0</td>\n",
       "      <td>3.80</td>\n",
       "      <td>0.38</td>\n",
       "      <td>1.67</td>\n",
       "      <td>0.82</td>\n",
       "      <td>0.00</td>\n",
       "      <td>0.00</td>\n",
       "      <td>0.50</td>\n",
       "      <td>0.0</td>\n",
       "    </tr>\n",
       "    <tr>\n",
       "      <th>1101</th>\n",
       "      <td>Jesus Pinedo</td>\n",
       "      <td>16.0</td>\n",
       "      <td>5.0</td>\n",
       "      <td>177.80</td>\n",
       "      <td>70.31</td>\n",
       "      <td>NaN</td>\n",
       "      <td>Southpaw</td>\n",
       "      <td>27.0</td>\n",
       "      <td>3.23</td>\n",
       "      <td>0.38</td>\n",
       "      <td>4.37</td>\n",
       "      <td>0.52</td>\n",
       "      <td>2.50</td>\n",
       "      <td>1.00</td>\n",
       "      <td>1.00</td>\n",
       "      <td>0.0</td>\n",
       "    </tr>\n",
       "    <tr>\n",
       "      <th>1131</th>\n",
       "      <td>Michel Batista</td>\n",
       "      <td>4.0</td>\n",
       "      <td>1.0</td>\n",
       "      <td>190.50</td>\n",
       "      <td>117.93</td>\n",
       "      <td>NaN</td>\n",
       "      <td>Orthodox</td>\n",
       "      <td>39.0</td>\n",
       "      <td>0.00</td>\n",
       "      <td>0.00</td>\n",
       "      <td>4.03</td>\n",
       "      <td>0.40</td>\n",
       "      <td>6.72</td>\n",
       "      <td>0.50</td>\n",
       "      <td>0.00</td>\n",
       "      <td>0.0</td>\n",
       "    </tr>\n",
       "    <tr>\n",
       "      <th>1166</th>\n",
       "      <td>Kalindra Faria</td>\n",
       "      <td>18.0</td>\n",
       "      <td>8.0</td>\n",
       "      <td>170.18</td>\n",
       "      <td>56.70</td>\n",
       "      <td>NaN</td>\n",
       "      <td>Switch</td>\n",
       "      <td>37.0</td>\n",
       "      <td>2.23</td>\n",
       "      <td>0.56</td>\n",
       "      <td>1.44</td>\n",
       "      <td>0.45</td>\n",
       "      <td>1.31</td>\n",
       "      <td>0.66</td>\n",
       "      <td>0.20</td>\n",
       "      <td>0.7</td>\n",
       "    </tr>\n",
       "    <tr>\n",
       "      <th>1182</th>\n",
       "      <td>Jay Cucciniello</td>\n",
       "      <td>8.0</td>\n",
       "      <td>1.0</td>\n",
       "      <td>170.18</td>\n",
       "      <td>70.31</td>\n",
       "      <td>NaN</td>\n",
       "      <td>Orthodox</td>\n",
       "      <td>37.0</td>\n",
       "      <td>0.93</td>\n",
       "      <td>0.21</td>\n",
       "      <td>4.73</td>\n",
       "      <td>0.36</td>\n",
       "      <td>0.00</td>\n",
       "      <td>0.00</td>\n",
       "      <td>0.71</td>\n",
       "      <td>0.0</td>\n",
       "    </tr>\n",
       "    <tr>\n",
       "      <th>...</th>\n",
       "      <td>...</td>\n",
       "      <td>...</td>\n",
       "      <td>...</td>\n",
       "      <td>...</td>\n",
       "      <td>...</td>\n",
       "      <td>...</td>\n",
       "      <td>...</td>\n",
       "      <td>...</td>\n",
       "      <td>...</td>\n",
       "      <td>...</td>\n",
       "      <td>...</td>\n",
       "      <td>...</td>\n",
       "      <td>...</td>\n",
       "      <td>...</td>\n",
       "      <td>...</td>\n",
       "      <td>...</td>\n",
       "    </tr>\n",
       "    <tr>\n",
       "      <th>2474</th>\n",
       "      <td>Thaddeus Luster</td>\n",
       "      <td>0.0</td>\n",
       "      <td>1.0</td>\n",
       "      <td>190.50</td>\n",
       "      <td>95.25</td>\n",
       "      <td>NaN</td>\n",
       "      <td>NaN</td>\n",
       "      <td>NaN</td>\n",
       "      <td>0.00</td>\n",
       "      <td>0.00</td>\n",
       "      <td>0.00</td>\n",
       "      <td>0.00</td>\n",
       "      <td>0.00</td>\n",
       "      <td>0.00</td>\n",
       "      <td>0.00</td>\n",
       "      <td>0.0</td>\n",
       "    </tr>\n",
       "    <tr>\n",
       "      <th>2475</th>\n",
       "      <td>David Levicki</td>\n",
       "      <td>1.0</td>\n",
       "      <td>3.0</td>\n",
       "      <td>195.58</td>\n",
       "      <td>124.74</td>\n",
       "      <td>NaN</td>\n",
       "      <td>NaN</td>\n",
       "      <td>NaN</td>\n",
       "      <td>0.00</td>\n",
       "      <td>0.00</td>\n",
       "      <td>0.00</td>\n",
       "      <td>0.00</td>\n",
       "      <td>0.00</td>\n",
       "      <td>0.00</td>\n",
       "      <td>0.00</td>\n",
       "      <td>0.0</td>\n",
       "    </tr>\n",
       "    <tr>\n",
       "      <th>2476</th>\n",
       "      <td>Ray Wizard</td>\n",
       "      <td>0.0</td>\n",
       "      <td>1.0</td>\n",
       "      <td>187.96</td>\n",
       "      <td>102.06</td>\n",
       "      <td>NaN</td>\n",
       "      <td>NaN</td>\n",
       "      <td>NaN</td>\n",
       "      <td>0.00</td>\n",
       "      <td>0.00</td>\n",
       "      <td>0.00</td>\n",
       "      <td>0.00</td>\n",
       "      <td>0.00</td>\n",
       "      <td>0.00</td>\n",
       "      <td>0.00</td>\n",
       "      <td>0.0</td>\n",
       "    </tr>\n",
       "    <tr>\n",
       "      <th>2477</th>\n",
       "      <td>Sean Daugherty</td>\n",
       "      <td>0.0</td>\n",
       "      <td>2.0</td>\n",
       "      <td>182.88</td>\n",
       "      <td>79.38</td>\n",
       "      <td>NaN</td>\n",
       "      <td>NaN</td>\n",
       "      <td>48.0</td>\n",
       "      <td>0.00</td>\n",
       "      <td>0.00</td>\n",
       "      <td>0.00</td>\n",
       "      <td>0.00</td>\n",
       "      <td>0.00</td>\n",
       "      <td>0.00</td>\n",
       "      <td>0.00</td>\n",
       "      <td>0.0</td>\n",
       "    </tr>\n",
       "    <tr>\n",
       "      <th>2478</th>\n",
       "      <td>NaN</td>\n",
       "      <td>NaN</td>\n",
       "      <td>NaN</td>\n",
       "      <td>NaN</td>\n",
       "      <td>NaN</td>\n",
       "      <td>NaN</td>\n",
       "      <td>NaN</td>\n",
       "      <td>NaN</td>\n",
       "      <td>NaN</td>\n",
       "      <td>NaN</td>\n",
       "      <td>NaN</td>\n",
       "      <td>NaN</td>\n",
       "      <td>NaN</td>\n",
       "      <td>NaN</td>\n",
       "      <td>NaN</td>\n",
       "      <td>NaN</td>\n",
       "    </tr>\n",
       "  </tbody>\n",
       "</table>\n",
       "<p>662 rows × 16 columns</p>\n",
       "</div>"
      ],
      "text/plain": [
       "                     name  wins  losses  height  weight   reach    stance  \\\n",
       "21    Daria Zhelezniakova   9.0     1.0  175.26   61.23  172.72       NaN   \n",
       "1101         Jesus Pinedo  16.0     5.0  177.80   70.31     NaN  Southpaw   \n",
       "1131       Michel Batista   4.0     1.0  190.50  117.93     NaN  Orthodox   \n",
       "1166       Kalindra Faria  18.0     8.0  170.18   56.70     NaN    Switch   \n",
       "1182      Jay Cucciniello   8.0     1.0  170.18   70.31     NaN  Orthodox   \n",
       "...                   ...   ...     ...     ...     ...     ...       ...   \n",
       "2474      Thaddeus Luster   0.0     1.0  190.50   95.25     NaN       NaN   \n",
       "2475        David Levicki   1.0     3.0  195.58  124.74     NaN       NaN   \n",
       "2476           Ray Wizard   0.0     1.0  187.96  102.06     NaN       NaN   \n",
       "2477       Sean Daugherty   0.0     2.0  182.88   79.38     NaN       NaN   \n",
       "2478                  NaN   NaN     NaN     NaN     NaN     NaN       NaN   \n",
       "\n",
       "       age  SLpM  sig_str_acc  SApM  str_def  td_avg  td_acc  td_def  sub_avg  \n",
       "21    28.0  3.80         0.38  1.67     0.82    0.00    0.00    0.50      0.0  \n",
       "1101  27.0  3.23         0.38  4.37     0.52    2.50    1.00    1.00      0.0  \n",
       "1131  39.0  0.00         0.00  4.03     0.40    6.72    0.50    0.00      0.0  \n",
       "1166  37.0  2.23         0.56  1.44     0.45    1.31    0.66    0.20      0.7  \n",
       "1182  37.0  0.93         0.21  4.73     0.36    0.00    0.00    0.71      0.0  \n",
       "...    ...   ...          ...   ...      ...     ...     ...     ...      ...  \n",
       "2474   NaN  0.00         0.00  0.00     0.00    0.00    0.00    0.00      0.0  \n",
       "2475   NaN  0.00         0.00  0.00     0.00    0.00    0.00    0.00      0.0  \n",
       "2476   NaN  0.00         0.00  0.00     0.00    0.00    0.00    0.00      0.0  \n",
       "2477  48.0  0.00         0.00  0.00     0.00    0.00    0.00    0.00      0.0  \n",
       "2478   NaN   NaN          NaN   NaN      NaN     NaN     NaN     NaN      NaN  \n",
       "\n",
       "[662 rows x 16 columns]"
      ]
     },
     "execution_count": 452,
     "metadata": {},
     "output_type": "execute_result"
    }
   ],
   "source": [
    "#check for null rows\n",
    "null_rows = fighter_data[fighter_data.isna().any(axis=1)]\n",
    "null_rows"
   ]
  },
  {
   "cell_type": "code",
   "execution_count": 453,
   "metadata": {},
   "outputs": [],
   "source": [
    "#Dropedd row at index 2478 as it is null\n",
    "fighter_data = fighter_data.drop(index=2478)"
   ]
  },
  {
   "cell_type": "code",
   "execution_count": 454,
   "metadata": {},
   "outputs": [
    {
     "data": {
      "text/plain": [
       "name             0\n",
       "wins             0\n",
       "losses           0\n",
       "height           0\n",
       "weight           0\n",
       "reach          655\n",
       "stance          77\n",
       "age            160\n",
       "SLpM             0\n",
       "sig_str_acc      0\n",
       "SApM             0\n",
       "str_def          0\n",
       "td_avg           0\n",
       "td_acc           0\n",
       "td_def           0\n",
       "sub_avg          0\n",
       "dtype: int64"
      ]
     },
     "execution_count": 454,
     "metadata": {},
     "output_type": "execute_result"
    }
   ],
   "source": [
    "#checking which null values are left\n",
    "fighter_data.isna().sum()"
   ]
  },
  {
   "cell_type": "code",
   "execution_count": 455,
   "metadata": {},
   "outputs": [
    {
     "data": {
      "text/plain": [
       "name            0.000000\n",
       "wins            0.000000\n",
       "losses          0.000000\n",
       "height          0.000000\n",
       "weight          0.000000\n",
       "reach          26.432607\n",
       "stance          3.107345\n",
       "age             6.456820\n",
       "SLpM            0.000000\n",
       "sig_str_acc     0.000000\n",
       "SApM            0.000000\n",
       "str_def         0.000000\n",
       "td_avg          0.000000\n",
       "td_acc          0.000000\n",
       "td_def          0.000000\n",
       "sub_avg         0.000000\n",
       "dtype: float64"
      ]
     },
     "execution_count": 455,
     "metadata": {},
     "output_type": "execute_result"
    }
   ],
   "source": [
    "# Finding out the percentage of empty data\n",
    "(fighter_data.isna().sum() / len(fighter_data)) * 100"
   ]
  },
  {
   "cell_type": "code",
   "execution_count": 456,
   "metadata": {},
   "outputs": [
    {
     "data": {
      "text/plain": [
       "<Axes: ylabel='reach'>"
      ]
     },
     "execution_count": 456,
     "metadata": {},
     "output_type": "execute_result"
    },
    {
     "data": {
      "image/png": "[encoded data removed]",
      "text/plain": [
       "<Figure size 640x480 with 1 Axes>"
      ]
     },
     "metadata": {},
     "output_type": "display_data"
    }
   ],
   "source": [
    "#Checking for outliers in r_td column\n",
    "sns.boxplot(fighter_data['reach'])"
   ]
  },
  {
   "cell_type": "code",
   "execution_count": 457,
   "metadata": {},
   "outputs": [],
   "source": [
    "#Filling data in reach field\n",
    "fighter_data['reach'] = fighter_data['reach'].fillna(fighter_data['reach'].median())"
   ]
  },
  {
   "cell_type": "code",
   "execution_count": 458,
   "metadata": {},
   "outputs": [
    {
     "data": {
      "image/png": "[encoded data removed]",
      "text/plain": [
       "<Figure size 640x480 with 1 Axes>"
      ]
     },
     "metadata": {},
     "output_type": "display_data"
    }
   ],
   "source": [
    "#checking for outliers in age column of fighter_data\n",
    "sns.boxplot(fighter_data['age'])\n",
    "plt.show()"
   ]
  },
  {
   "cell_type": "code",
   "execution_count": 459,
   "metadata": {},
   "outputs": [],
   "source": [
    "#Using median to fill null values in age column\n",
    "#As there are outliers in age columns\n",
    "fighter_data['age'] = fighter_data['age'].fillna(fighter_data['age'].median())"
   ]
  },
  {
   "cell_type": "code",
   "execution_count": 460,
   "metadata": {},
   "outputs": [],
   "source": [
    "#using mode to fill null value in stance column\n",
    "fighter_data['stance'] = fighter_data['stance'].fillna(fighter_data['stance'].mode()[0])"
   ]
  },
  {
   "cell_type": "code",
   "execution_count": 461,
   "metadata": {},
   "outputs": [
    {
     "data": {
      "image/png": "[encoded data removed]",
      "text/plain": [
       "<Figure size 640x480 with 1 Axes>"
      ]
     },
     "metadata": {},
     "output_type": "display_data"
    }
   ],
   "source": [
    "unique_stance = fighter_data['stance'].value_counts().index\n",
    "count_stance = fighter_data['stance'].value_counts().values\n",
    "sns.barplot(x=unique_stance,y=count_stance)\n",
    "plt.xlabel(\"Stances\")\n",
    "plt.ylabel(\"No. of fighters\")\n",
    "plt.show()"
   ]
  },
  {
   "cell_type": "code",
   "execution_count": 462,
   "metadata": {},
   "outputs": [],
   "source": [
    "# Combining SLpm and SApm to create Strking Efficiency(SEff)\n",
    "fighter_data['SEff'] = fighter_data['SLpM']/(fighter_data['SLpM']+fighter_data['SApM']) "
   ]
  },
  {
   "cell_type": "code",
   "execution_count": 463,
   "metadata": {},
   "outputs": [],
   "source": [
    "# Combining td_acc and td_def to create Grappling Score(Gscr)\n",
    "fighter_data['Gscr'] = (fighter_data['td_acc'] + fighter_data['td_def'])/2"
   ]
  },
  {
   "cell_type": "code",
   "execution_count": 464,
   "metadata": {},
   "outputs": [],
   "source": [
    "# Combining win and loss to create win ration (win_rto)\n",
    "fighter_data['win_rto'] = fighter_data['wins']/(fighter_data['wins']+fighter_data['losses'])*100"
   ]
  },
  {
   "cell_type": "code",
   "execution_count": 465,
   "metadata": {},
   "outputs": [],
   "source": [
    "#Combining SEff and Gscr to get a efficiency score(EffScore)\n",
    "fighter_data[\"EffScore\"] = (fighter_data['SEff'] + fighter_data['Gscr'])/2"
   ]
  },
  {
   "cell_type": "code",
   "execution_count": 466,
   "metadata": {},
   "outputs": [],
   "source": [
    "#Finding difference between wins and losses (WinDiff)\n",
    "fighter_data['WinDiff'] = fighter_data['wins'] - fighter_data['losses']"
   ]
  },
  {
   "cell_type": "code",
   "execution_count": 467,
   "metadata": {},
   "outputs": [],
   "source": [
    "#Getting to know the advantage relative to fighter's height\n",
    "fighter_data['Reach-to-Height Ratio'] = fighter_data['reach']/fighter_data['height']"
   ]
  },
  {
   "cell_type": "code",
   "execution_count": 468,
   "metadata": {},
   "outputs": [],
   "source": [
    "#Provides insight into body type differeences\n",
    "fighter_data['Weight-to-Height Ratio'] = fighter_data['weight']/fighter_data['height']"
   ]
  },
  {
   "cell_type": "code",
   "execution_count": 469,
   "metadata": {},
   "outputs": [],
   "source": [
    "#Droping all the unnecessary columns as they have been combined\n",
    "fighter_data = fighter_data.drop(\n",
    "    columns=[\n",
    "        \"SLpM\",\n",
    "        \"sig_str_acc\",\n",
    "        \"SApM\",\n",
    "        \"str_def\",\n",
    "        \"td_avg\",\n",
    "        \"td_acc\",\n",
    "        \"td_def\",\n",
    "        \"sub_avg\",\n",
    "    ],\n",
    "    axis=1,\n",
    ")"
   ]
  },
  {
   "cell_type": "code",
   "execution_count": 470,
   "metadata": {},
   "outputs": [
    {
     "data": {
      "text/plain": [
       "(2478, 15)"
      ]
     },
     "execution_count": 470,
     "metadata": {},
     "output_type": "execute_result"
    }
   ],
   "source": [
    "#knowing how the shape has change of dataframe\n",
    "fighter_data.shape"
   ]
  },
  {
   "cell_type": "code",
   "execution_count": 471,
   "metadata": {},
   "outputs": [
    {
     "data": {
      "text/plain": [
       "name                        0\n",
       "wins                        0\n",
       "losses                      0\n",
       "height                      0\n",
       "weight                      0\n",
       "reach                       0\n",
       "stance                      0\n",
       "age                         0\n",
       "SEff                      165\n",
       "Gscr                        0\n",
       "win_rto                     0\n",
       "EffScore                  165\n",
       "WinDiff                     0\n",
       "Reach-to-Height Ratio       0\n",
       "Weight-to-Height Ratio      0\n",
       "dtype: int64"
      ]
     },
     "execution_count": 471,
     "metadata": {},
     "output_type": "execute_result"
    }
   ],
   "source": [
    "fighter_data.isna().sum()"
   ]
  },
  {
   "cell_type": "code",
   "execution_count": 472,
   "metadata": {},
   "outputs": [
    {
     "data": {
      "text/plain": [
       "<Axes: ylabel='EffScore'>"
      ]
     },
     "execution_count": 472,
     "metadata": {},
     "output_type": "execute_result"
    },
    {
     "data": {
      "image/png": "[encoded data removed]",
      "text/plain": [
       "<Figure size 640x480 with 1 Axes>"
      ]
     },
     "metadata": {},
     "output_type": "display_data"
    }
   ],
   "source": [
    "sns.boxplot(fighter_data['EffScore'])"
   ]
  },
  {
   "cell_type": "code",
   "execution_count": 473,
   "metadata": {},
   "outputs": [],
   "source": [
    "fighter_data['EffScore'] = fighter_data['EffScore'].fillna(fighter_data['EffScore'].median())"
   ]
  },
  {
   "cell_type": "code",
   "execution_count": 474,
   "metadata": {},
   "outputs": [
    {
     "data": {
      "text/plain": [
       "<Axes: ylabel='SEff'>"
      ]
     },
     "execution_count": 474,
     "metadata": {},
     "output_type": "execute_result"
    },
    {
     "data": {
      "image/png": "[encoded data removed]",
      "text/plain": [
       "<Figure size 640x480 with 1 Axes>"
      ]
     },
     "metadata": {},
     "output_type": "display_data"
    }
   ],
   "source": [
    "sns.boxplot(fighter_data['SEff'])"
   ]
  },
  {
   "cell_type": "code",
   "execution_count": 475,
   "metadata": {},
   "outputs": [],
   "source": [
    "fighter_data[\"SEff\"] = fighter_data[\"SEff\"].fillna(\n",
    "    fighter_data[\"SEff\"].median()\n",
    ")"
   ]
  },
  {
   "cell_type": "code",
   "execution_count": 476,
   "metadata": {},
   "outputs": [],
   "source": [
    "#Saving the fighter data to a new csv file\n",
    "fighter_data.to_csv('../Datasets/cleaned_fighter_stats.csv')"
   ]
  },
  {
   "cell_type": "code",
   "execution_count": 477,
   "metadata": {},
   "outputs": [
    {
     "data": {
      "text/plain": [
       "Unnamed: 0                0\n",
       "name                      0\n",
       "wins                      0\n",
       "losses                    0\n",
       "height                    0\n",
       "weight                    0\n",
       "reach                     0\n",
       "stance                    0\n",
       "age                       0\n",
       "SEff                      0\n",
       "Gscr                      0\n",
       "win_rto                   0\n",
       "EffScore                  0\n",
       "WinDiff                   0\n",
       "Reach-to-Height Ratio     0\n",
       "Weight-to-Height Ratio    0\n",
       "dtype: int64"
      ]
     },
     "execution_count": 477,
     "metadata": {},
     "output_type": "execute_result"
    }
   ],
   "source": [
    "cleaned_data = pd.read_csv(\"../Datasets/cleaned_fighter_stats.csv\")\n",
    "cleaned_data.isna().sum()"
   ]
  },
  {
   "cell_type": "markdown",
   "metadata": {},
   "source": [
    "### **Cleaning data of Event Data**"
   ]
  },
  {
   "cell_type": "code",
   "execution_count": 478,
   "metadata": {},
   "outputs": [
    {
     "name": "stdout",
     "output_type": "stream",
     "text": [
      "<class 'pandas.core.frame.DataFrame'>\n",
      "RangeIndex: 7582 entries, 0 to 7581\n",
      "Data columns (total 19 columns):\n",
      " #   Column           Non-Null Count  Dtype  \n",
      "---  ------           --------------  -----  \n",
      " 0   event            7497 non-null   object \n",
      " 1   date             7497 non-null   object \n",
      " 2   location         7497 non-null   object \n",
      " 3   r_fighter        7497 non-null   object \n",
      " 4   b_fighter        7497 non-null   object \n",
      " 5   status           7582 non-null   object \n",
      " 6   r_kd             7476 non-null   float64\n",
      " 7   b_kd             7476 non-null   float64\n",
      " 8   r_str            7476 non-null   float64\n",
      " 9   b_str            7476 non-null   float64\n",
      " 10  r_td             7476 non-null   float64\n",
      " 11  b_td             7476 non-null   float64\n",
      " 12  r_sub            7476 non-null   float64\n",
      " 13  b_sub            7476 non-null   float64\n",
      " 14  weight_class     7497 non-null   object \n",
      " 15  method           7497 non-null   object \n",
      " 16  method_detailed  3836 non-null   object \n",
      " 17  round            7497 non-null   float64\n",
      " 18  time             7497 non-null   object \n",
      "dtypes: float64(9), object(10)\n",
      "memory usage: 1.1+ MB\n"
     ]
    }
   ],
   "source": [
    "#Info about the columns in fighter_data\n",
    "event_detail_data.info()"
   ]
  },
  {
   "cell_type": "code",
   "execution_count": 479,
   "metadata": {},
   "outputs": [
    {
     "data": {
      "text/html": [
       "<div>\n",
       "<style scoped>\n",
       "    .dataframe tbody tr th:only-of-type {\n",
       "        vertical-align: middle;\n",
       "    }\n",
       "\n",
       "    .dataframe tbody tr th {\n",
       "        vertical-align: top;\n",
       "    }\n",
       "\n",
       "    .dataframe thead th {\n",
       "        text-align: right;\n",
       "    }\n",
       "</style>\n",
       "<table border=\"1\" class=\"dataframe\">\n",
       "  <thead>\n",
       "    <tr style=\"text-align: right;\">\n",
       "      <th></th>\n",
       "      <th>r_kd</th>\n",
       "      <th>b_kd</th>\n",
       "      <th>r_str</th>\n",
       "      <th>b_str</th>\n",
       "      <th>r_td</th>\n",
       "      <th>b_td</th>\n",
       "      <th>r_sub</th>\n",
       "      <th>b_sub</th>\n",
       "      <th>round</th>\n",
       "    </tr>\n",
       "  </thead>\n",
       "  <tbody>\n",
       "    <tr>\n",
       "      <th>count</th>\n",
       "      <td>7476.000000</td>\n",
       "      <td>7476.000000</td>\n",
       "      <td>7476.000000</td>\n",
       "      <td>7476.000000</td>\n",
       "      <td>7476.000000</td>\n",
       "      <td>7476.000000</td>\n",
       "      <td>7476.000000</td>\n",
       "      <td>7476.000000</td>\n",
       "      <td>7497.000000</td>\n",
       "    </tr>\n",
       "    <tr>\n",
       "      <th>mean</th>\n",
       "      <td>0.368914</td>\n",
       "      <td>0.061798</td>\n",
       "      <td>43.488630</td>\n",
       "      <td>28.766988</td>\n",
       "      <td>1.461343</td>\n",
       "      <td>0.668539</td>\n",
       "      <td>0.534243</td>\n",
       "      <td>0.247057</td>\n",
       "      <td>2.342804</td>\n",
       "    </tr>\n",
       "    <tr>\n",
       "      <th>std</th>\n",
       "      <td>0.607262</td>\n",
       "      <td>0.264120</td>\n",
       "      <td>34.591414</td>\n",
       "      <td>27.099495</td>\n",
       "      <td>1.988927</td>\n",
       "      <td>1.195232</td>\n",
       "      <td>0.941658</td>\n",
       "      <td>0.684925</td>\n",
       "      <td>1.015948</td>\n",
       "    </tr>\n",
       "    <tr>\n",
       "      <th>min</th>\n",
       "      <td>0.000000</td>\n",
       "      <td>0.000000</td>\n",
       "      <td>0.000000</td>\n",
       "      <td>0.000000</td>\n",
       "      <td>0.000000</td>\n",
       "      <td>0.000000</td>\n",
       "      <td>0.000000</td>\n",
       "      <td>0.000000</td>\n",
       "      <td>1.000000</td>\n",
       "    </tr>\n",
       "    <tr>\n",
       "      <th>25%</th>\n",
       "      <td>0.000000</td>\n",
       "      <td>0.000000</td>\n",
       "      <td>17.000000</td>\n",
       "      <td>8.000000</td>\n",
       "      <td>0.000000</td>\n",
       "      <td>0.000000</td>\n",
       "      <td>0.000000</td>\n",
       "      <td>0.000000</td>\n",
       "      <td>1.000000</td>\n",
       "    </tr>\n",
       "    <tr>\n",
       "      <th>50%</th>\n",
       "      <td>0.000000</td>\n",
       "      <td>0.000000</td>\n",
       "      <td>36.000000</td>\n",
       "      <td>22.000000</td>\n",
       "      <td>1.000000</td>\n",
       "      <td>0.000000</td>\n",
       "      <td>0.000000</td>\n",
       "      <td>0.000000</td>\n",
       "      <td>3.000000</td>\n",
       "    </tr>\n",
       "    <tr>\n",
       "      <th>75%</th>\n",
       "      <td>1.000000</td>\n",
       "      <td>0.000000</td>\n",
       "      <td>61.000000</td>\n",
       "      <td>42.000000</td>\n",
       "      <td>2.000000</td>\n",
       "      <td>1.000000</td>\n",
       "      <td>1.000000</td>\n",
       "      <td>0.000000</td>\n",
       "      <td>3.000000</td>\n",
       "    </tr>\n",
       "    <tr>\n",
       "      <th>max</th>\n",
       "      <td>5.000000</td>\n",
       "      <td>3.000000</td>\n",
       "      <td>445.000000</td>\n",
       "      <td>271.000000</td>\n",
       "      <td>21.000000</td>\n",
       "      <td>11.000000</td>\n",
       "      <td>10.000000</td>\n",
       "      <td>7.000000</td>\n",
       "      <td>5.000000</td>\n",
       "    </tr>\n",
       "  </tbody>\n",
       "</table>\n",
       "</div>"
      ],
      "text/plain": [
       "              r_kd         b_kd        r_str        b_str         r_td  \\\n",
       "count  7476.000000  7476.000000  7476.000000  7476.000000  7476.000000   \n",
       "mean      0.368914     0.061798    43.488630    28.766988     1.461343   \n",
       "std       0.607262     0.264120    34.591414    27.099495     1.988927   \n",
       "min       0.000000     0.000000     0.000000     0.000000     0.000000   \n",
       "25%       0.000000     0.000000    17.000000     8.000000     0.000000   \n",
       "50%       0.000000     0.000000    36.000000    22.000000     1.000000   \n",
       "75%       1.000000     0.000000    61.000000    42.000000     2.000000   \n",
       "max       5.000000     3.000000   445.000000   271.000000    21.000000   \n",
       "\n",
       "              b_td        r_sub        b_sub        round  \n",
       "count  7476.000000  7476.000000  7476.000000  7497.000000  \n",
       "mean      0.668539     0.534243     0.247057     2.342804  \n",
       "std       1.195232     0.941658     0.684925     1.015948  \n",
       "min       0.000000     0.000000     0.000000     1.000000  \n",
       "25%       0.000000     0.000000     0.000000     1.000000  \n",
       "50%       0.000000     0.000000     0.000000     3.000000  \n",
       "75%       1.000000     1.000000     0.000000     3.000000  \n",
       "max      11.000000    10.000000     7.000000     5.000000  "
      ]
     },
     "execution_count": 479,
     "metadata": {},
     "output_type": "execute_result"
    }
   ],
   "source": [
    "#Statistical description of non-categorial column in fighter_data\n",
    "event_detail_data.describe()"
   ]
  },
  {
   "cell_type": "code",
   "execution_count": 480,
   "metadata": {},
   "outputs": [
    {
     "data": {
      "text/html": [
       "<div>\n",
       "<style scoped>\n",
       "    .dataframe tbody tr th:only-of-type {\n",
       "        vertical-align: middle;\n",
       "    }\n",
       "\n",
       "    .dataframe tbody tr th {\n",
       "        vertical-align: top;\n",
       "    }\n",
       "\n",
       "    .dataframe thead th {\n",
       "        text-align: right;\n",
       "    }\n",
       "</style>\n",
       "<table border=\"1\" class=\"dataframe\">\n",
       "  <thead>\n",
       "    <tr style=\"text-align: right;\">\n",
       "      <th></th>\n",
       "      <th>event</th>\n",
       "      <th>date</th>\n",
       "      <th>location</th>\n",
       "      <th>r_fighter</th>\n",
       "      <th>b_fighter</th>\n",
       "      <th>status</th>\n",
       "      <th>weight_class</th>\n",
       "      <th>method</th>\n",
       "      <th>method_detailed</th>\n",
       "      <th>time</th>\n",
       "    </tr>\n",
       "  </thead>\n",
       "  <tbody>\n",
       "    <tr>\n",
       "      <th>count</th>\n",
       "      <td>7497</td>\n",
       "      <td>7497</td>\n",
       "      <td>7497</td>\n",
       "      <td>7497</td>\n",
       "      <td>7497</td>\n",
       "      <td>7582</td>\n",
       "      <td>7497</td>\n",
       "      <td>7497</td>\n",
       "      <td>3836</td>\n",
       "      <td>7497</td>\n",
       "    </tr>\n",
       "    <tr>\n",
       "      <th>unique</th>\n",
       "      <td>683</td>\n",
       "      <td>678</td>\n",
       "      <td>168</td>\n",
       "      <td>1721</td>\n",
       "      <td>2344</td>\n",
       "      <td>3</td>\n",
       "      <td>15</td>\n",
       "      <td>7</td>\n",
       "      <td>51</td>\n",
       "      <td>339</td>\n",
       "    </tr>\n",
       "    <tr>\n",
       "      <th>top</th>\n",
       "      <td>UFC 2: No Way Out</td>\n",
       "      <td>11/19/2016</td>\n",
       "      <td>Las Vegas, Nevada, USA</td>\n",
       "      <td>Jim Miller</td>\n",
       "      <td>Clay Guida</td>\n",
       "      <td>win</td>\n",
       "      <td>Lightweight</td>\n",
       "      <td>U-DEC</td>\n",
       "      <td>Punches</td>\n",
       "      <td>5:00</td>\n",
       "    </tr>\n",
       "    <tr>\n",
       "      <th>freq</th>\n",
       "      <td>15</td>\n",
       "      <td>24</td>\n",
       "      <td>2475</td>\n",
       "      <td>26</td>\n",
       "      <td>18</td>\n",
       "      <td>7439</td>\n",
       "      <td>1298</td>\n",
       "      <td>2666</td>\n",
       "      <td>934</td>\n",
       "      <td>3512</td>\n",
       "    </tr>\n",
       "  </tbody>\n",
       "</table>\n",
       "</div>"
      ],
      "text/plain": [
       "                    event        date                location   r_fighter  \\\n",
       "count                7497        7497                    7497        7497   \n",
       "unique                683         678                     168        1721   \n",
       "top     UFC 2: No Way Out  11/19/2016  Las Vegas, Nevada, USA  Jim Miller   \n",
       "freq                   15          24                    2475          26   \n",
       "\n",
       "         b_fighter status weight_class method method_detailed  time  \n",
       "count         7497   7582         7497   7497            3836  7497  \n",
       "unique        2344      3           15      7              51   339  \n",
       "top     Clay Guida    win  Lightweight  U-DEC         Punches  5:00  \n",
       "freq            18   7439         1298   2666             934  3512  "
      ]
     },
     "execution_count": 480,
     "metadata": {},
     "output_type": "execute_result"
    }
   ],
   "source": [
    "#Statistical description of categorial column in fighter_data\n",
    "event_detail_data.describe(include=\"object\")"
   ]
  },
  {
   "cell_type": "code",
   "execution_count": 481,
   "metadata": {},
   "outputs": [
    {
     "data": {
      "text/plain": [
       "event               1.121076\n",
       "date                1.121076\n",
       "location            1.121076\n",
       "r_fighter           1.121076\n",
       "b_fighter           1.121076\n",
       "status              0.000000\n",
       "r_kd                1.398048\n",
       "b_kd                1.398048\n",
       "r_str               1.398048\n",
       "b_str               1.398048\n",
       "r_td                1.398048\n",
       "b_td                1.398048\n",
       "r_sub               1.398048\n",
       "b_sub               1.398048\n",
       "weight_class        1.121076\n",
       "method              1.121076\n",
       "method_detailed    49.406489\n",
       "round               1.121076\n",
       "time                1.121076\n",
       "dtype: float64"
      ]
     },
     "execution_count": 481,
     "metadata": {},
     "output_type": "execute_result"
    }
   ],
   "source": [
    "#checking for percentage of null values\n",
    "(event_detail_data.isna().sum() / len(event_detail_data))*100"
   ]
  },
  {
   "cell_type": "code",
   "execution_count": 482,
   "metadata": {},
   "outputs": [],
   "source": [
    "#Droping method_detailed as it is 49.4% null\n",
    "event_detail_data = event_detail_data.drop(columns='method_detailed',axis=1)"
   ]
  },
  {
   "cell_type": "code",
   "execution_count": 483,
   "metadata": {},
   "outputs": [],
   "source": [
    "#Delete rows where status column had 'Fight was not properly finished'\n",
    "#As, all other columns had null values in them\n",
    "event_detail_data = event_detail_data[event_detail_data['status'] != 'Fight was not properly finished']"
   ]
  },
  {
   "cell_type": "code",
   "execution_count": 484,
   "metadata": {},
   "outputs": [
    {
     "data": {
      "text/plain": [
       "(7497, 18)"
      ]
     },
     "execution_count": 484,
     "metadata": {},
     "output_type": "execute_result"
    }
   ],
   "source": [
    "#Checking how the shape has changed\n",
    "event_detail_data.shape"
   ]
  },
  {
   "cell_type": "code",
   "execution_count": 485,
   "metadata": {},
   "outputs": [
    {
     "data": {
      "text/plain": [
       "event           0.000000\n",
       "date            0.000000\n",
       "location        0.000000\n",
       "r_fighter       0.000000\n",
       "b_fighter       0.000000\n",
       "status          0.000000\n",
       "r_kd            0.280112\n",
       "b_kd            0.280112\n",
       "r_str           0.280112\n",
       "b_str           0.280112\n",
       "r_td            0.280112\n",
       "b_td            0.280112\n",
       "r_sub           0.280112\n",
       "b_sub           0.280112\n",
       "weight_class    0.000000\n",
       "method          0.000000\n",
       "round           0.000000\n",
       "time            0.000000\n",
       "dtype: float64"
      ]
     },
     "execution_count": 485,
     "metadata": {},
     "output_type": "execute_result"
    }
   ],
   "source": [
    "#Percentage of null value now\n",
    "(event_detail_data.isna().sum() / len(event_detail_data))*100"
   ]
  },
  {
   "cell_type": "code",
   "execution_count": 486,
   "metadata": {},
   "outputs": [
    {
     "data": {
      "image/png": "[encoded data removed]",
      "text/plain": [
       "<Figure size 640x480 with 1 Axes>"
      ]
     },
     "metadata": {},
     "output_type": "display_data"
    }
   ],
   "source": [
    "#checking for outliers in r_kd column in event data\n",
    "sns.boxplot(event_detail_data['r_kd'])\n",
    "plt.show()"
   ]
  },
  {
   "cell_type": "code",
   "execution_count": 487,
   "metadata": {},
   "outputs": [],
   "source": [
    "#As, there are outliers we used median to fill null values\n",
    "event_detail_data['r_kd'] = event_detail_data['r_kd'].fillna(event_detail_data['r_kd'].median())"
   ]
  },
  {
   "cell_type": "code",
   "execution_count": 488,
   "metadata": {},
   "outputs": [
    {
     "data": {
      "image/png": "[encoded data removed]",
      "text/plain": [
       "<Figure size 640x480 with 1 Axes>"
      ]
     },
     "metadata": {},
     "output_type": "display_data"
    }
   ],
   "source": [
    "#Checking for outliers in b_kd column in event data\n",
    "sns.boxplot(event_detail_data['b_kd'])\n",
    "plt.show()"
   ]
  },
  {
   "cell_type": "code",
   "execution_count": 489,
   "metadata": {},
   "outputs": [],
   "source": [
    "#As, there are outliers we used median to fill null values\n",
    "event_detail_data['b_kd'] = event_detail_data['b_kd'].fillna(event_detail_data['r_kd'].median())"
   ]
  },
  {
   "cell_type": "code",
   "execution_count": 490,
   "metadata": {},
   "outputs": [
    {
     "data": {
      "text/plain": [
       "<Axes: ylabel='r_str'>"
      ]
     },
     "execution_count": 490,
     "metadata": {},
     "output_type": "execute_result"
    },
    {
     "data": {
      "image/png": "[encoded data removed]",
      "text/plain": [
       "<Figure size 640x480 with 1 Axes>"
      ]
     },
     "metadata": {},
     "output_type": "display_data"
    }
   ],
   "source": [
    "#Checking for outliers in r_str column\n",
    "sns.boxplot(event_detail_data['r_str'])"
   ]
  },
  {
   "cell_type": "code",
   "execution_count": 491,
   "metadata": {},
   "outputs": [],
   "source": [
    "#As, there are outliers we used median to fill null values\n",
    "event_detail_data['r_str'] = event_detail_data['r_str'].fillna(event_detail_data['r_str'].median())"
   ]
  },
  {
   "cell_type": "code",
   "execution_count": 492,
   "metadata": {},
   "outputs": [
    {
     "data": {
      "text/plain": [
       "<Axes: ylabel='b_str'>"
      ]
     },
     "execution_count": 492,
     "metadata": {},
     "output_type": "execute_result"
    },
    {
     "data": {
      "image/png": "[encoded data removed]",
      "text/plain": [
       "<Figure size 640x480 with 1 Axes>"
      ]
     },
     "metadata": {},
     "output_type": "display_data"
    }
   ],
   "source": [
    "#Checking for outliers in b_str column\n",
    "sns.boxplot(event_detail_data['b_str'])"
   ]
  },
  {
   "cell_type": "code",
   "execution_count": 493,
   "metadata": {},
   "outputs": [],
   "source": [
    "#As, there are outliers we used median to fill null values\n",
    "event_detail_data['b_str'] = event_detail_data['b_str'].fillna(event_detail_data['b_str'].median())"
   ]
  },
  {
   "cell_type": "code",
   "execution_count": 494,
   "metadata": {},
   "outputs": [
    {
     "data": {
      "text/plain": [
       "<Axes: ylabel='r_td'>"
      ]
     },
     "execution_count": 494,
     "metadata": {},
     "output_type": "execute_result"
    },
    {
     "data": {
      "image/png": "[encoded data removed]",
      "text/plain": [
       "<Figure size 640x480 with 1 Axes>"
      ]
     },
     "metadata": {},
     "output_type": "display_data"
    }
   ],
   "source": [
    "#Checking for outliers in r_td column\n",
    "sns.boxplot(event_detail_data['r_td'])"
   ]
  },
  {
   "cell_type": "code",
   "execution_count": 495,
   "metadata": {},
   "outputs": [],
   "source": [
    "#As, there are outliers we used median to fill null values\n",
    "event_detail_data['r_td'] = event_detail_data['r_td'].fillna(event_detail_data['r_td'].median())"
   ]
  },
  {
   "cell_type": "code",
   "execution_count": 496,
   "metadata": {},
   "outputs": [
    {
     "data": {
      "text/plain": [
       "<Axes: ylabel='b_td'>"
      ]
     },
     "execution_count": 496,
     "metadata": {},
     "output_type": "execute_result"
    },
    {
     "data": {
      "image/png": "[encoded data removed]",
      "text/plain": [
       "<Figure size 640x480 with 1 Axes>"
      ]
     },
     "metadata": {},
     "output_type": "display_data"
    }
   ],
   "source": [
    "#Checking for outliers in b_td column\n",
    "sns.boxplot(event_detail_data['b_td'])"
   ]
  },
  {
   "cell_type": "code",
   "execution_count": 497,
   "metadata": {},
   "outputs": [],
   "source": [
    "#As, there are outliers we used median to fill null values\n",
    "event_detail_data['b_td'] = event_detail_data['b_td'].fillna(event_detail_data['b_td'].median())"
   ]
  },
  {
   "cell_type": "code",
   "execution_count": 498,
   "metadata": {},
   "outputs": [
    {
     "data": {
      "text/plain": [
       "<Axes: ylabel='r_sub'>"
      ]
     },
     "execution_count": 498,
     "metadata": {},
     "output_type": "execute_result"
    },
    {
     "data": {
      "image/png": "[encoded data removed]",
      "text/plain": [
       "<Figure size 640x480 with 1 Axes>"
      ]
     },
     "metadata": {},
     "output_type": "display_data"
    }
   ],
   "source": [
    "#Checking for outliers in r_sub column\n",
    "sns.boxplot(event_detail_data['r_sub'])"
   ]
  },
  {
   "cell_type": "code",
   "execution_count": 499,
   "metadata": {},
   "outputs": [],
   "source": [
    "#As, there are outliers we used median to fill null values\n",
    "event_detail_data['r_sub'] = event_detail_data['r_sub'].fillna(event_detail_data['r_sub'].median())"
   ]
  },
  {
   "cell_type": "code",
   "execution_count": 500,
   "metadata": {},
   "outputs": [
    {
     "data": {
      "text/plain": [
       "<Axes: ylabel='b_sub'>"
      ]
     },
     "execution_count": 500,
     "metadata": {},
     "output_type": "execute_result"
    },
    {
     "data": {
      "image/png": "[encoded data removed]",
      "text/plain": [
       "<Figure size 640x480 with 1 Axes>"
      ]
     },
     "metadata": {},
     "output_type": "display_data"
    }
   ],
   "source": [
    "#Checking for outliers in b_sub column\n",
    "sns.boxplot(event_detail_data['b_sub'])"
   ]
  },
  {
   "cell_type": "code",
   "execution_count": 501,
   "metadata": {},
   "outputs": [],
   "source": [
    "#As, there are outliers we used median to fill null values\n",
    "event_detail_data['b_sub'] = event_detail_data['b_sub'].fillna(event_detail_data['b_sub'].median())"
   ]
  },
  {
   "cell_type": "code",
   "execution_count": 502,
   "metadata": {},
   "outputs": [],
   "source": [
    "#Deriving winner column\n",
    "event_detail_data['winner'] = np.where(event_detail_data['status'] == 'win', event_detail_data['r_fighter'],event_detail_data['b_fighter'])"
   ]
  },
  {
   "cell_type": "code",
   "execution_count": 503,
   "metadata": {},
   "outputs": [],
   "source": [
    "# Split the 'time' column into minutes and seconds\n",
    "event_detail_data[[\"minutes\", \"seconds\"]] = (\n",
    "    event_detail_data[\"time\"].str.split(\":\", expand=True).astype(int)\n",
    ")"
   ]
  },
  {
   "cell_type": "code",
   "execution_count": 504,
   "metadata": {},
   "outputs": [],
   "source": [
    "# Convert time to total seconds\n",
    "event_detail_data[\"time_in_seconds\"] = (event_detail_data[\"minutes\"] * 60) + event_detail_data[\"seconds\"]"
   ]
  },
  {
   "cell_type": "code",
   "execution_count": 505,
   "metadata": {},
   "outputs": [],
   "source": [
    "#deriving fight duration in seconds\n",
    "round_duration = 300  # seconds (5 minutes)\n",
    "event_detail_data['fight_time_seconds'] = (event_detail_data['round'] - 1) * round_duration + event_detail_data['time_in_seconds']"
   ]
  },
  {
   "cell_type": "code",
   "execution_count": 506,
   "metadata": {},
   "outputs": [],
   "source": [
    "# combining total damage by both fighter in r_total_damage and b_total_damage respectively\n",
    "event_detail_data[\"r_total_damage\"] = event_detail_data[\"r_kd\"] + event_detail_data[\"r_str\"]\n",
    "event_detail_data[\"b_total_damage\"] = event_detail_data[\"b_kd\"] + event_detail_data[\"b_str\"]"
   ]
  },
  {
   "cell_type": "code",
   "execution_count": 507,
   "metadata": {},
   "outputs": [],
   "source": [
    "# combining takedowns per round by both fighter in r_td_per_round and b_td_per_round respectively\n",
    "event_detail_data[\"r_td_per_round\"] =event_detail_data[\"r_td\"] /event_detail_data[\"round\"]\n",
    "event_detail_data[\"b_td_per_round\"] =event_detail_data[\"b_td\"] /event_detail_data[\"round\"]"
   ]
  },
  {
   "cell_type": "code",
   "execution_count": 508,
   "metadata": {},
   "outputs": [],
   "source": [
    "# combining submission per round by both fighter in r_sub_per_round and b_sub_per_roundrespectively\n",
    "event_detail_data[\"r_sub_per_round\"] = event_detail_data[\"r_sub\"] / event_detail_data[\"round\"]\n",
    "event_detail_data[\"b_sub_per_round\"] = event_detail_data[\"b_sub\"] / event_detail_data[\"round\"]"
   ]
  },
  {
   "cell_type": "code",
   "execution_count": 509,
   "metadata": {},
   "outputs": [],
   "source": [
    "# Droping columns as they are already normalized or have been derived r_kd, b_kd, r_str, b_str, r_td, b_td, r_sub, b_sub, status, minuter, seconds, time_in_seconds\n",
    "event_detail_data = event_detail_data.drop(columns=['status','r_kd', 'b_kd', 'r_str', 'b_str', 'r_td', 'b_td', 'r_sub', 'b_sub','minutes','seconds','time_in_seconds'])"
   ]
  },
  {
   "cell_type": "code",
   "execution_count": null,
   "metadata": {},
   "outputs": [],
   "source": [
    "#saved cleaned data to new csv\n",
    "event_detail_data.to_csv('../Datasets/cleaned_event_data.csv')"
   ]
  }
 ],
 "metadata": {
  "kernelspec": {
   "display_name": ".venv",
   "language": "python",
   "name": "python3"
  },
  "language_info": {
   "codemirror_mode": {
    "name": "ipython",
    "version": 3
   },
   "file_extension": ".py",
   "mimetype": "text/x-python",
   "name": "python",
   "nbconvert_exporter": "python",
   "pygments_lexer": "ipython3",
   "version": "3.12.8"
  }
 },
 "nbformat": 4,
 "nbformat_minor": 2
}
